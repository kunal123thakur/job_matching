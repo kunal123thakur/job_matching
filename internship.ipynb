{
 "cells": [
  {
   "cell_type": "code",
   "execution_count": 9,
   "id": "5634d74c",
   "metadata": {},
   "outputs": [],
   "source": [
    "import pandas as pd\n",
    "data = pd.read_csv('C:\\\\Users\\\\hp\\\\Desktop\\\\Kunal_work\\\\SIH\\\\internship.csv')"
   ]
  },
  {
   "cell_type": "code",
   "execution_count": 10,
   "id": "e67c05bb",
   "metadata": {},
   "outputs": [
    {
     "data": {
      "text/html": [
       "<div>\n",
       "<style scoped>\n",
       "    .dataframe tbody tr th:only-of-type {\n",
       "        vertical-align: middle;\n",
       "    }\n",
       "\n",
       "    .dataframe tbody tr th {\n",
       "        vertical-align: top;\n",
       "    }\n",
       "\n",
       "    .dataframe thead th {\n",
       "        text-align: right;\n",
       "    }\n",
       "</style>\n",
       "<table border=\"1\" class=\"dataframe\">\n",
       "  <thead>\n",
       "    <tr style=\"text-align: right;\">\n",
       "      <th></th>\n",
       "      <th>internship_title</th>\n",
       "      <th>company_name</th>\n",
       "      <th>location</th>\n",
       "      <th>start_date</th>\n",
       "      <th>duration</th>\n",
       "      <th>stipend</th>\n",
       "    </tr>\n",
       "  </thead>\n",
       "  <tbody>\n",
       "    <tr>\n",
       "      <th>0</th>\n",
       "      <td>Java Development</td>\n",
       "      <td>SunbaseData</td>\n",
       "      <td>Work From Home</td>\n",
       "      <td>Immediately</td>\n",
       "      <td>6 Months</td>\n",
       "      <td>₹ 30,000 /month</td>\n",
       "    </tr>\n",
       "    <tr>\n",
       "      <th>1</th>\n",
       "      <td>Accounting and Finance</td>\n",
       "      <td>DAKSM &amp; Co. LLP</td>\n",
       "      <td>Noida</td>\n",
       "      <td>Immediately</td>\n",
       "      <td>6 Months</td>\n",
       "      <td>₹ 5,000-10,000 /month</td>\n",
       "    </tr>\n",
       "    <tr>\n",
       "      <th>2</th>\n",
       "      <td>Sales &amp; Digital Marketing</td>\n",
       "      <td>Bharat Natural Elements Private Limited</td>\n",
       "      <td>Bangalore</td>\n",
       "      <td>Immediately</td>\n",
       "      <td>6 Months</td>\n",
       "      <td>₹ 5,000 /month</td>\n",
       "    </tr>\n",
       "    <tr>\n",
       "      <th>3</th>\n",
       "      <td>Social Entrepreneurship</td>\n",
       "      <td>Hamari Pahchan NGO</td>\n",
       "      <td>Work From Home</td>\n",
       "      <td>Immediately</td>\n",
       "      <td>6 Months</td>\n",
       "      <td>Unpaid</td>\n",
       "    </tr>\n",
       "    <tr>\n",
       "      <th>4</th>\n",
       "      <td>Videography &amp; Photography</td>\n",
       "      <td>Esquare Lifestyle</td>\n",
       "      <td>Bangalore</td>\n",
       "      <td>Immediately</td>\n",
       "      <td>6 Months</td>\n",
       "      <td>₹ 12,000 /month</td>\n",
       "    </tr>\n",
       "  </tbody>\n",
       "</table>\n",
       "</div>"
      ],
      "text/plain": [
       "            internship_title                             company_name  \\\n",
       "0           Java Development                              SunbaseData   \n",
       "1     Accounting and Finance                          DAKSM & Co. LLP   \n",
       "2  Sales & Digital Marketing  Bharat Natural Elements Private Limited   \n",
       "3    Social Entrepreneurship                       Hamari Pahchan NGO   \n",
       "4  Videography & Photography                        Esquare Lifestyle   \n",
       "\n",
       "         location   start_date  duration                stipend  \n",
       "0  Work From Home  Immediately  6 Months        ₹ 30,000 /month  \n",
       "1           Noida  Immediately  6 Months  ₹ 5,000-10,000 /month  \n",
       "2       Bangalore  Immediately  6 Months         ₹ 5,000 /month  \n",
       "3  Work From Home  Immediately  6 Months                 Unpaid  \n",
       "4       Bangalore  Immediately  6 Months        ₹ 12,000 /month  "
      ]
     },
     "execution_count": 10,
     "metadata": {},
     "output_type": "execute_result"
    }
   ],
   "source": [
    "data.head()"
   ]
  },
  {
   "cell_type": "code",
   "execution_count": 11,
   "id": "1e18e007",
   "metadata": {},
   "outputs": [
    {
     "data": {
      "text/plain": [
       "(6485, 6)"
      ]
     },
     "execution_count": 11,
     "metadata": {},
     "output_type": "execute_result"
    }
   ],
   "source": [
    "data.shape"
   ]
  },
  {
   "cell_type": "code",
   "execution_count": 13,
   "id": "0323b097",
   "metadata": {},
   "outputs": [],
   "source": [
    "df = data"
   ]
  },
  {
   "cell_type": "code",
   "execution_count": 15,
   "id": "f1a768e7",
   "metadata": {},
   "outputs": [],
   "source": [
    "import pandas as pd\n",
    "from datetime import datetime\n",
    "\n",
    "# Load CSV\n",
    "df = data\n",
    "\n",
    "# Internship Title & Company\n",
    "df['internship_title'] = df['internship_title'].str.strip()\n",
    "df['company_name'] = df['company_name'].str.strip()\n",
    "\n",
    "# Location Cleaning\n",
    "df['location'] = df['location'].str.strip().str.title()\n",
    "\n",
    "# Remote Flag\n",
    "df['is_remote'] = df['location'].str.contains(\"work from home\", case=False)\n",
    "df['location'] = df['location'].replace(\"Work From Home\", \"Remote\")\n",
    "\n",
    "# Start Date Handling\n",
    "def parse_start_date(val):\n",
    "    if pd.isna(val):\n",
    "        return None\n",
    "    if \"immediate\" in val.lower():\n",
    "        return datetime.today().date()\n",
    "    try:\n",
    "        return pd.to_datetime(val).date()\n",
    "    except:\n",
    "        return None\n",
    "\n",
    "# df['start_date'] = df['start_date'].astype(str).apply(parse_start_date)\n",
    "\n",
    "# Duration in Months\n",
    "df['duration_months'] = df['duration'].str.extract(r'(\\d+)').astype(float)\n",
    "\n",
    "# Stipend Parsing\n",
    "import re\n",
    "\n",
    "def parse_stipend(s):\n",
    "    if pd.isna(s): \n",
    "        return (0, 0)\n",
    "    s = str(s).lower()\n",
    "    if \"unpaid\" in s:\n",
    "        return (0, 0)\n",
    "    \n",
    "    # Extract all continuous digit groups (with commas allowed)\n",
    "    nums = re.findall(r'\\d[\\d,]*', s)\n",
    "    nums = [int(x.replace(',', '')) for x in nums]\n",
    "\n",
    "    if len(nums) == 1:\n",
    "        return (nums[0], nums[0])\n",
    "    elif len(nums) >= 2:\n",
    "        return (nums[0], nums[1])\n",
    "    else:\n",
    "        return (0, 0)\n",
    "df['stipend_avg'] = (df['stipend_min'] + df['stipend_max']) / 2\n",
    "\n",
    "# Apply again\n",
    "df[['stipend_min','stipend_max']] = df['stipend'].apply(lambda x: pd.Series(parse_stipend(x)))\n",
    "\n",
    "\n",
    "# print(df[['internship_title','company_name','location','is_remote','start_date','duration_months','stipend_min','stipend_max']].head())\n"
   ]
  },
  {
   "cell_type": "code",
   "execution_count": 14,
   "id": "9803a3f2",
   "metadata": {},
   "outputs": [
    {
     "data": {
      "text/html": [
       "<div>\n",
       "<style scoped>\n",
       "    .dataframe tbody tr th:only-of-type {\n",
       "        vertical-align: middle;\n",
       "    }\n",
       "\n",
       "    .dataframe tbody tr th {\n",
       "        vertical-align: top;\n",
       "    }\n",
       "\n",
       "    .dataframe thead th {\n",
       "        text-align: right;\n",
       "    }\n",
       "</style>\n",
       "<table border=\"1\" class=\"dataframe\">\n",
       "  <thead>\n",
       "    <tr style=\"text-align: right;\">\n",
       "      <th></th>\n",
       "      <th>internship_title</th>\n",
       "      <th>company_name</th>\n",
       "      <th>location</th>\n",
       "      <th>start_date</th>\n",
       "      <th>duration</th>\n",
       "      <th>stipend</th>\n",
       "    </tr>\n",
       "  </thead>\n",
       "  <tbody>\n",
       "    <tr>\n",
       "      <th>6480</th>\n",
       "      <td>Project Management</td>\n",
       "      <td>Special Situation Advisors India Private Limited</td>\n",
       "      <td>Navi Mumbai</td>\n",
       "      <td>Immediately</td>\n",
       "      <td>6 Months</td>\n",
       "      <td>₹ 7,000-10,000 /month</td>\n",
       "    </tr>\n",
       "    <tr>\n",
       "      <th>6481</th>\n",
       "      <td>Dietetics/Nutrition</td>\n",
       "      <td>Special Situation Advisors India Private Limited</td>\n",
       "      <td>Navi Mumbai</td>\n",
       "      <td>Immediately</td>\n",
       "      <td>6 Months</td>\n",
       "      <td>₹ 7,000-10,000 /month</td>\n",
       "    </tr>\n",
       "    <tr>\n",
       "      <th>6482</th>\n",
       "      <td>Wealth Management</td>\n",
       "      <td>Special Situation Advisors India Private Limited</td>\n",
       "      <td>Navi Mumbai</td>\n",
       "      <td>Immediately</td>\n",
       "      <td>6 Months</td>\n",
       "      <td>₹ 7,000-10,000 /month</td>\n",
       "    </tr>\n",
       "    <tr>\n",
       "      <th>6483</th>\n",
       "      <td>Sales</td>\n",
       "      <td>Special Situation Advisors India Private Limited</td>\n",
       "      <td>Panvel</td>\n",
       "      <td>Immediately</td>\n",
       "      <td>6 Months</td>\n",
       "      <td>₹ 7,000-10,000 /month</td>\n",
       "    </tr>\n",
       "    <tr>\n",
       "      <th>6484</th>\n",
       "      <td>Campus Ambassador</td>\n",
       "      <td>Internshala</td>\n",
       "      <td>Work From Home</td>\n",
       "      <td>Not specified</td>\n",
       "      <td>6 Months</td>\n",
       "      <td>₹2000</td>\n",
       "    </tr>\n",
       "  </tbody>\n",
       "</table>\n",
       "</div>"
      ],
      "text/plain": [
       "         internship_title                                      company_name  \\\n",
       "6480   Project Management  Special Situation Advisors India Private Limited   \n",
       "6481  Dietetics/Nutrition  Special Situation Advisors India Private Limited   \n",
       "6482    Wealth Management  Special Situation Advisors India Private Limited   \n",
       "6483                Sales  Special Situation Advisors India Private Limited   \n",
       "6484    Campus Ambassador                                       Internshala   \n",
       "\n",
       "            location     start_date  duration                stipend  \n",
       "6480     Navi Mumbai    Immediately  6 Months  ₹ 7,000-10,000 /month  \n",
       "6481     Navi Mumbai    Immediately  6 Months  ₹ 7,000-10,000 /month  \n",
       "6482     Navi Mumbai    Immediately  6 Months  ₹ 7,000-10,000 /month  \n",
       "6483          Panvel    Immediately  6 Months  ₹ 7,000-10,000 /month  \n",
       "6484  Work From Home  Not specified  6 Months                  ₹2000  "
      ]
     },
     "execution_count": 14,
     "metadata": {},
     "output_type": "execute_result"
    }
   ],
   "source": [
    "df.tail()"
   ]
  },
  {
   "cell_type": "code",
   "execution_count": 5,
   "id": "e0b80e7f",
   "metadata": {},
   "outputs": [
    {
     "name": "stdout",
     "output_type": "stream",
     "text": [
      "1\n"
     ]
    }
   ],
   "source": [
    "import os\n",
    "from sqlalchemy import create_engine, text\n",
    "from dotenv import load_dotenv\n",
    "load_dotenv()\n",
    "url = os.getenv('DATABASE_URL')\n",
    "if url.startswith(\"postgres://\"):\n",
    "    url = url.replace(\"postgres://\", \"postgresql+psycopg2://\", 1)\n",
    "\n",
    "engine = create_engine(url)\n",
    "with engine.connect() as conn:\n",
    "    print(conn.execute(text(\"SELECT 1\")).scalar())\n"
   ]
  },
  {
   "cell_type": "code",
   "execution_count": null,
   "id": "3564b8a5",
   "metadata": {},
   "outputs": [
    {
     "name": "stdout",
     "output_type": "stream",
     "text": [
      "✅ Table 'internships' created successfully!\n"
     ]
    }
   ],
   "source": [
    "from sqlalchemy import create_engine, text\n",
    "import os\n",
    "from dotenv import load_dotenv\n",
    "\n",
    "# env se URL lena\n",
    "load_dotenv()\n",
    "url = os.getenv('DATABASE_URL')\n",
    "\n",
    "# Neon URL ko psycopg2 compatible banana\n",
    "if url.startswith(\"postgres://\"):\n",
    "    url = url.replace(\"postgres://\", \"postgresql+psycopg2://\", 1)\n",
    "\n",
    "# engine create\n",
    "engine = create_engine(url)\n",
    "\n",
    "# CREATE TABLE query\n",
    "create_table_query = \"\"\"\n",
    "CREATE TABLE IF NOT EXISTS internships (\n",
    "    id SERIAL PRIMARY KEY,\n",
    "    internship_title TEXT,\n",
    "    company_name TEXT,\n",
    "    location TEXT,\n",
    "    start_date DATE,\n",
    "    duration TEXT,\n",
    "    stipend TEXT,\n",
    "    is_remote BOOLEAN,\n",
    "    duration_months INT,\n",
    "    stipend_min INT,\n",
    "    stipend_max INT\n",
    ");\n",
    "\"\"\"\n",
    "\n",
    "# query execute\n",
    "with engine.connect() as conn:\n",
    "    conn.execute(text(create_table_query))\n",
    "    conn.commit()   # SQLAlchemy me commit karna jaruri hai\n",
    "    print(\"✅ Table 'internships' created successfully!\")\n"
   ]
  },
  {
   "cell_type": "code",
   "execution_count": 27,
   "id": "4b726f06",
   "metadata": {},
   "outputs": [
    {
     "name": "stdout",
     "output_type": "stream",
     "text": [
      "✅ Column stipend_avg added!\n"
     ]
    }
   ],
   "source": [
    "alter_query = \"\"\"\n",
    "ALTER TABLE internships\n",
    "ADD COLUMN stipend_avg INT;\n",
    "\"\"\"\n",
    "\n",
    "with engine.connect() as conn:\n",
    "    conn.execute(text(alter_query))\n",
    "    conn.commit()\n",
    "    print(\"✅ Column stipend_avg added!\")\n"
   ]
  },
  {
   "cell_type": "code",
   "execution_count": 28,
   "id": "092ad358",
   "metadata": {},
   "outputs": [],
   "source": [
    "df = df[['internship_title','company_name','location','is_remote',\n",
    "         'start_date','duration_months','stipend_min','stipend_max','stipend_avg']]"
   ]
  },
  {
   "cell_type": "code",
   "execution_count": 73,
   "id": "b68b2932",
   "metadata": {},
   "outputs": [
    {
     "data": {
      "text/html": [
       "<div>\n",
       "<style scoped>\n",
       "    .dataframe tbody tr th:only-of-type {\n",
       "        vertical-align: middle;\n",
       "    }\n",
       "\n",
       "    .dataframe tbody tr th {\n",
       "        vertical-align: top;\n",
       "    }\n",
       "\n",
       "    .dataframe thead th {\n",
       "        text-align: right;\n",
       "    }\n",
       "</style>\n",
       "<table border=\"1\" class=\"dataframe\">\n",
       "  <thead>\n",
       "    <tr style=\"text-align: right;\">\n",
       "      <th></th>\n",
       "      <th>internship_title</th>\n",
       "      <th>company_name</th>\n",
       "      <th>location</th>\n",
       "      <th>is_remote</th>\n",
       "      <th>start_date</th>\n",
       "      <th>duration_months</th>\n",
       "      <th>stipend_min</th>\n",
       "      <th>stipend_max</th>\n",
       "      <th>stipend_avg</th>\n",
       "    </tr>\n",
       "  </thead>\n",
       "  <tbody>\n",
       "    <tr>\n",
       "      <th>0</th>\n",
       "      <td>Java Development</td>\n",
       "      <td>SunbaseData</td>\n",
       "      <td>Remote</td>\n",
       "      <td>False</td>\n",
       "      <td>2025-08-28</td>\n",
       "      <td>6.0</td>\n",
       "      <td>30000</td>\n",
       "      <td>30000</td>\n",
       "      <td>30000.0</td>\n",
       "    </tr>\n",
       "    <tr>\n",
       "      <th>1</th>\n",
       "      <td>Accounting and Finance</td>\n",
       "      <td>DAKSM &amp; Co. LLP</td>\n",
       "      <td>Noida</td>\n",
       "      <td>False</td>\n",
       "      <td>2025-08-28</td>\n",
       "      <td>6.0</td>\n",
       "      <td>5000</td>\n",
       "      <td>10000</td>\n",
       "      <td>7500.0</td>\n",
       "    </tr>\n",
       "    <tr>\n",
       "      <th>2</th>\n",
       "      <td>Sales &amp; Digital Marketing</td>\n",
       "      <td>Bharat Natural Elements Private Limited</td>\n",
       "      <td>Bangalore</td>\n",
       "      <td>False</td>\n",
       "      <td>2025-08-28</td>\n",
       "      <td>6.0</td>\n",
       "      <td>5000</td>\n",
       "      <td>5000</td>\n",
       "      <td>5000.0</td>\n",
       "    </tr>\n",
       "    <tr>\n",
       "      <th>3</th>\n",
       "      <td>Social Entrepreneurship</td>\n",
       "      <td>Hamari Pahchan NGO</td>\n",
       "      <td>Remote</td>\n",
       "      <td>False</td>\n",
       "      <td>2025-08-28</td>\n",
       "      <td>6.0</td>\n",
       "      <td>0</td>\n",
       "      <td>0</td>\n",
       "      <td>0.0</td>\n",
       "    </tr>\n",
       "    <tr>\n",
       "      <th>4</th>\n",
       "      <td>Videography &amp; Photography</td>\n",
       "      <td>Esquare Lifestyle</td>\n",
       "      <td>Bangalore</td>\n",
       "      <td>False</td>\n",
       "      <td>2025-08-28</td>\n",
       "      <td>6.0</td>\n",
       "      <td>12000</td>\n",
       "      <td>12000</td>\n",
       "      <td>12000.0</td>\n",
       "    </tr>\n",
       "  </tbody>\n",
       "</table>\n",
       "</div>"
      ],
      "text/plain": [
       "            internship_title                             company_name  \\\n",
       "0           Java Development                              SunbaseData   \n",
       "1     Accounting and Finance                          DAKSM & Co. LLP   \n",
       "2  Sales & Digital Marketing  Bharat Natural Elements Private Limited   \n",
       "3    Social Entrepreneurship                       Hamari Pahchan NGO   \n",
       "4  Videography & Photography                        Esquare Lifestyle   \n",
       "\n",
       "    location  is_remote  start_date  duration_months  stipend_min  \\\n",
       "0     Remote      False  2025-08-28              6.0        30000   \n",
       "1      Noida      False  2025-08-28              6.0         5000   \n",
       "2  Bangalore      False  2025-08-28              6.0         5000   \n",
       "3     Remote      False  2025-08-28              6.0            0   \n",
       "4  Bangalore      False  2025-08-28              6.0        12000   \n",
       "\n",
       "   stipend_max  stipend_avg  \n",
       "0        30000      30000.0  \n",
       "1        10000       7500.0  \n",
       "2         5000       5000.0  \n",
       "3            0          0.0  \n",
       "4        12000      12000.0  "
      ]
     },
     "execution_count": 73,
     "metadata": {},
     "output_type": "execute_result"
    }
   ],
   "source": [
    "df.head()"
   ]
  },
  {
   "cell_type": "code",
   "execution_count": 30,
   "id": "ceac08b4",
   "metadata": {},
   "outputs": [
    {
     "name": "stdout",
     "output_type": "stream",
     "text": [
      "✅ Data inserted successfully!\n"
     ]
    }
   ],
   "source": [
    "df.to_sql(\"internships\", engine, if_exists=\"append\", index=False)\n",
    "\n",
    "print(\"✅ Data inserted successfully!\")"
   ]
  },
  {
   "cell_type": "code",
   "execution_count": 87,
   "id": "2f158fd4",
   "metadata": {},
   "outputs": [
    {
     "name": "stdout",
     "output_type": "stream",
     "text": [
      "(6, 'English Curriculum Writing', 'Team Everest', 'Remote', datetime.date(2025, 8, 28), False, 6, 0, 0, 0, None)\n",
      "(7, 'Search Engine Optimization (SEO)', 'Global Trend', 'Remote', datetime.date(2025, 8, 28), False, 6, 5000, 5000, 5000, None)\n",
      "(8, 'Digital Dreamweaver: Internship Odyssey In Graphic Design', 'Global Trend', 'Remote', datetime.date(2025, 8, 28), False, 6, 7000, 7000, 7000, None)\n",
      "(9, 'Graphic Design', 'Expedify', 'Remote', datetime.date(2025, 8, 28), False, 6, 10000, 15000, 12500, None)\n",
      "(10, 'Campus Ambassador', 'Internshala', 'Remote', None, False, 6, 2000, 2000, 2000, None)\n"
     ]
    }
   ],
   "source": [
    "with engine.connect() as conn:\n",
    "    result = conn.execute(text(\"SELECT * FROM internships LIMIT 5;\"))\n",
    "    for row in result:\n",
    "        print(row)\n"
   ]
  },
  {
   "cell_type": "code",
   "execution_count": null,
   "id": "f7a43f1c",
   "metadata": {},
   "outputs": [],
   "source": [
    "# \"SELECT internship_title, company_name, stipend_max\n",
    "# FROM internships\n",
    "# ORDER BY stipend_max DESC\n",
    "# LIMIT 5;\n",
    "# \""
   ]
  },
  {
   "cell_type": "code",
   "execution_count": null,
   "id": "ddd52a7d",
   "metadata": {},
   "outputs": [],
   "source": [
    "# df = df.drop(columns=[\"stipend_avg\"], errors=\"ignore\")\n"
   ]
  },
  {
   "cell_type": "code",
   "execution_count": 35,
   "id": "81904d67",
   "metadata": {},
   "outputs": [
    {
     "name": "stdout",
     "output_type": "stream",
     "text": [
      "✅ Columns drop ho gaye!\n"
     ]
    }
   ],
   "source": [
    "with engine.connect() as conn:\n",
    "    conn.execute(text(\"ALTER TABLE internships DROP COLUMN duration;\"))\n",
    "    conn.execute(text(\"ALTER TABLE internships DROP COLUMN stipend;\"))\n",
    "    conn.commit()\n",
    "    print(\"✅ Columns drop ho gaye!\")\n"
   ]
  },
  {
   "cell_type": "code",
   "execution_count": 19,
   "id": "d68026ab",
   "metadata": {},
   "outputs": [
    {
     "name": "stdout",
     "output_type": "stream",
     "text": [
      "First Name Last Name \n",
      " 123 Maple Dr.   617-555-1234 \n",
      " Anywhere, MA 02116  email@email.com   \n",
      " \n",
      " \n",
      "Profile \n",
      "This is where you write what work you’d like to do and what motivates you. This is how \n",
      "you set the tone of your resume. Write what do you most want to the person reading your \n",
      "resume to know.  \n",
      " \n",
      " \n",
      "Experience \n",
      "01/2015-06/2017    Host \n",
      " TFI Fridays – Boston, MA \n",
      " Describe the tasks and responsibilities of the job; your \n",
      "accomplishments during your time \n",
      " Be specific and use numbers to show growth or \n",
      "accomplishments \n",
      " List your jobs in reverse chronological order starting with most \n",
      "recent and working your way back  \n",
      " Use bullet points, but don’t end your sentence with punctuation \n",
      "in the bullet points \n",
      " \n",
      " \n",
      "01/2013-12/2014    Food Service Management Intern \n",
      " Big Company LLC – Boston, MA \n",
      " Include volunteer or internships that you’ve had that might be \n",
      "relevant to the job \n",
      " \n",
      " \n",
      " \n",
      "Education \n",
      "  2015           Associates Degree: Business Administration \n",
      "Roxbury Community College- Boston \n",
      " \n",
      " \n",
      " \n",
      "Interest \n",
      " Yoga \n",
      " Cooking \n",
      " Tea \n",
      " Reading \n",
      " \n",
      " Basketball \n",
      "(Go Celtics!)  \n",
      " Running \n",
      " Choir \n",
      " Other interests \n",
      "you might have \n",
      "that give them \n",
      "an idea of who \n",
      "you are. \n",
      " \n"
     ]
    }
   ],
   "source": [
    "from langchain.document_loaders import PyPDFLoader\n",
    "\n",
    "loader = PyPDFLoader(\"sampl-Resume.pdf\")\n",
    "docs = loader.load()\n",
    "print(docs[0].page_content)\n",
    "document = docs\n"
   ]
  },
  {
   "cell_type": "code",
   "execution_count": 22,
   "id": "c567cf0f",
   "metadata": {},
   "outputs": [],
   "source": [
    "def clean_resume_text(text):\n",
    "    # remove extra newlines, special chars\n",
    "    text = text.replace(\"\\n\", \" \").replace(\"\\t\", \" \")\n",
    "    return text\n",
    "\n",
    "resume_text = clean_resume_text(document[0].page_content)\n"
   ]
  },
  {
   "cell_type": "code",
   "execution_count": 23,
   "id": "40387eda",
   "metadata": {},
   "outputs": [
    {
     "name": "stdout",
     "output_type": "stream",
     "text": [
      "Extracted skills: ['Food Service Management', 'Hosting']\n"
     ]
    }
   ],
   "source": [
    "from langchain_groq import ChatGroq\n",
    "from langchain.prompts import ChatPromptTemplate\n",
    "from langchain.output_parsers import PydanticOutputParser\n",
    "from pydantic import BaseModel\n",
    "from typing import List\n",
    "import os\n",
    "\n",
    "# 1. Define your Pydantic schema\n",
    "class SkillsOutput(BaseModel):\n",
    "    skills: List[str]\n",
    "\n",
    "# 2. Setup environment and model\n",
    "GROQ_API_KEY = os.getenv(\"GROQ_API_KEY\")\n",
    "llm = ChatGroq(api_key=GROQ_API_KEY, model_name=\"Gemma2-9b-It\")\n",
    "\n",
    "# 3. Create a structured output parser from Pydantic model\n",
    "parser = PydanticOutputParser(pydantic_object=SkillsOutput)\n",
    "\n",
    "# 4. Create prompt template with format instructions from parser\n",
    "prompt = ChatPromptTemplate.from_template(\n",
    "    \"\"\"\n",
    "You are an expert HR assistant. Extract ONLY the technical and professional skills\n",
    "from the following resume text. Normalize them into a clean Python list.\n",
    "\n",
    "Resume:\n",
    "{resume_text}\n",
    "\n",
    "\"\"\"\n",
    "# {format_instructions}\n",
    ")\n",
    "# prompt = prompt.partial(format_instructions=parser.get_format_instructions())\n",
    "\n",
    "# prompt -> llm (with structured output binding) -> pydantic parser\n",
    "chain = prompt | llm.with_structured_output(SkillsOutput)\n",
    "\n",
    "# 6. Example resume text\n",
    "# resume_text = \"\"\"\n",
    "# John Doe is a Data Scientist with experience in Python, SQL, Machine Learning,\n",
    "# AWS, and project management. Strong communicator with leadership skills.\n",
    "# \"\"\"\n",
    "\n",
    "# 7. Run chain - input is dict with variable for prompt\n",
    "skills_out = chain.invoke({\"resume_text\": resume_text})\n",
    "\n",
    "print(\"Extracted skills:\", skills_out.skills)\n"
   ]
  },
  {
   "cell_type": "code",
   "execution_count": 4,
   "id": "49ce0d0f",
   "metadata": {},
   "outputs": [
    {
     "ename": "NameError",
     "evalue": "name 'engine' is not defined",
     "output_type": "error",
     "traceback": [
      "\u001b[1;31m---------------------------------------------------------------------------\u001b[0m",
      "\u001b[1;31mNameError\u001b[0m                                 Traceback (most recent call last)",
      "Cell \u001b[1;32mIn[4], line 5\u001b[0m\n\u001b[0;32m      1\u001b[0m alter_query \u001b[38;5;241m=\u001b[39m \u001b[38;5;124m\"\"\"\u001b[39m\n\u001b[0;32m      2\u001b[0m \u001b[38;5;124mALTER TABLE internships\u001b[39m\n\u001b[0;32m      3\u001b[0m \u001b[38;5;124mADD COLUMN skills TEXT[];\u001b[39m\n\u001b[0;32m      4\u001b[0m \u001b[38;5;124m\"\"\"\u001b[39m\n\u001b[1;32m----> 5\u001b[0m \u001b[38;5;28;01mwith\u001b[39;00m \u001b[43mengine\u001b[49m\u001b[38;5;241m.\u001b[39mconnect() \u001b[38;5;28;01mas\u001b[39;00m conn:\n\u001b[0;32m      6\u001b[0m     conn\u001b[38;5;241m.\u001b[39mexecute(text(alter_query))\n\u001b[0;32m      7\u001b[0m     conn\u001b[38;5;241m.\u001b[39mcommit()\n",
      "\u001b[1;31mNameError\u001b[0m: name 'engine' is not defined"
     ]
    }
   ],
   "source": [
    "alter_query = \"\"\"\n",
    "ALTER TABLE internships\n",
    "ADD COLUMN skills TEXT[];\n",
    "\"\"\"\n",
    "with engine.connect() as conn:\n",
    "    conn.execute(text(alter_query))\n",
    "    conn.commit()\n",
    "    print(\"✅ Internship table me 'skills' column add ho gaya!\")\n"
   ]
  },
  {
   "cell_type": "code",
   "execution_count": 17,
   "id": "71b91b81",
   "metadata": {},
   "outputs": [
    {
     "ename": "NameError",
     "evalue": "name 'llm' is not defined",
     "output_type": "error",
     "traceback": [
      "\u001b[1;31m---------------------------------------------------------------------------\u001b[0m",
      "\u001b[1;31mNameError\u001b[0m                                 Traceback (most recent call last)",
      "Cell \u001b[1;32mIn[17], line 11\u001b[0m\n\u001b[0;32m      1\u001b[0m \u001b[38;5;28;01mfrom\u001b[39;00m\u001b[38;5;250m \u001b[39m\u001b[38;5;21;01mlangchain\u001b[39;00m\u001b[38;5;21;01m.\u001b[39;00m\u001b[38;5;21;01mprompts\u001b[39;00m\u001b[38;5;250m \u001b[39m\u001b[38;5;28;01mimport\u001b[39;00m ChatPromptTemplate\n\u001b[0;32m      3\u001b[0m prompt \u001b[38;5;241m=\u001b[39m ChatPromptTemplate\u001b[38;5;241m.\u001b[39mfrom_template(\u001b[38;5;124m\"\"\"\u001b[39m\n\u001b[0;32m      4\u001b[0m \u001b[38;5;124mExtract ONLY the technical and professional skills required from the following internship description.\u001b[39m\n\u001b[0;32m      5\u001b[0m \u001b[38;5;124mOutput as a clean Python list.\u001b[39m\n\u001b[1;32m   (...)\u001b[0m\n\u001b[0;32m      8\u001b[0m \u001b[38;5;132;01m{internship_text}\u001b[39;00m\n\u001b[0;32m      9\u001b[0m \u001b[38;5;124m\"\"\"\u001b[39m)\n\u001b[1;32m---> 11\u001b[0m chain \u001b[38;5;241m=\u001b[39m prompt \u001b[38;5;241m|\u001b[39m \u001b[43mllm\u001b[49m\u001b[38;5;241m.\u001b[39mwith_structured_output(SkillsOutput)\n\u001b[0;32m     13\u001b[0m \u001b[38;5;66;03m# Example run for 1 internship\u001b[39;00m\n\u001b[0;32m     14\u001b[0m sample_text \u001b[38;5;241m=\u001b[39m df[\u001b[38;5;124m'\u001b[39m\u001b[38;5;124minternship_title\u001b[39m\u001b[38;5;124m'\u001b[39m][\u001b[38;5;241m0\u001b[39m] \u001b[38;5;241m+\u001b[39m \u001b[38;5;124m\"\u001b[39m\u001b[38;5;124m \u001b[39m\u001b[38;5;124m\"\u001b[39m \u001b[38;5;241m+\u001b[39m df[\u001b[38;5;124m'\u001b[39m\u001b[38;5;124mcompany_name\u001b[39m\u001b[38;5;124m'\u001b[39m][\u001b[38;5;241m0\u001b[39m]\n",
      "\u001b[1;31mNameError\u001b[0m: name 'llm' is not defined"
     ]
    }
   ],
   "source": [
    "from langchain.prompts import ChatPromptTemplate\n",
    "\n",
    "prompt = ChatPromptTemplate.from_template(\"\"\"\n",
    "Extract ONLY the technical and professional skills required from the following internship description.\n",
    "Output as a clean Python list.\n",
    "\n",
    "Internship:\n",
    "{internship_text}\n",
    "\"\"\")\n",
    "\n",
    "chain = prompt | llm.with_structured_output(SkillsOutput)\n",
    "\n",
    "# Example run for 1 internship\n",
    "sample_text = df['internship_title'][0] + \" \" + df['company_name'][0]\n",
    "skills_out = chain.invoke({\"internship_text\": sample_text})\n",
    "print(\"Internship skills:\", skills_out.skills)\n"
   ]
  },
  {
   "cell_type": "code",
   "execution_count": 88,
   "id": "f43b831e",
   "metadata": {},
   "outputs": [
    {
     "name": "stdout",
     "output_type": "stream",
     "text": [
      "✅ pgvector extension enabled!\n"
     ]
    }
   ],
   "source": [
    "with engine.connect() as conn:\n",
    "    conn.execute(text(\"CREATE EXTENSION IF NOT EXISTS vector;\"))\n",
    "    conn.commit()\n",
    "    print(\"✅ pgvector extension enabled!\")\n"
   ]
  },
  {
   "cell_type": "code",
   "execution_count": 3,
   "id": "b70d6ffd",
   "metadata": {},
   "outputs": [
    {
     "ename": "NameError",
     "evalue": "name 'engine' is not defined",
     "output_type": "error",
     "traceback": [
      "\u001b[1;31m---------------------------------------------------------------------------\u001b[0m",
      "\u001b[1;31mNameError\u001b[0m                                 Traceback (most recent call last)",
      "Cell \u001b[1;32mIn[3], line 5\u001b[0m\n\u001b[0;32m      1\u001b[0m alter_vector_query \u001b[38;5;241m=\u001b[39m \u001b[38;5;124m\"\"\"\u001b[39m\n\u001b[0;32m      2\u001b[0m \u001b[38;5;124mALTER TABLE internships\u001b[39m\n\u001b[0;32m      3\u001b[0m \u001b[38;5;124mADD COLUMN IF NOT EXISTS embedding VECTOR(384);\u001b[39m\n\u001b[0;32m      4\u001b[0m \u001b[38;5;124m\"\"\"\u001b[39m\n\u001b[1;32m----> 5\u001b[0m \u001b[38;5;28;01mwith\u001b[39;00m \u001b[43mengine\u001b[49m\u001b[38;5;241m.\u001b[39mconnect() \u001b[38;5;28;01mas\u001b[39;00m conn:\n\u001b[0;32m      6\u001b[0m     conn\u001b[38;5;241m.\u001b[39mexecute(text(alter_vector_query))\n\u001b[0;32m      7\u001b[0m     conn\u001b[38;5;241m.\u001b[39mcommit()\n",
      "\u001b[1;31mNameError\u001b[0m: name 'engine' is not defined"
     ]
    }
   ],
   "source": [
    "alter_vector_query = \"\"\"\n",
    "ALTER TABLE internships\n",
    "ADD COLUMN IF NOT EXISTS embedding VECTOR(384);\n",
    "\"\"\"\n",
    "with engine.connect() as conn:\n",
    "    conn.execute(text(alter_vector_query))\n",
    "    conn.commit()\n",
    "    print(\"✅ 'embedding' column added!\")\n"
   ]
  },
  {
   "cell_type": "code",
   "execution_count": 90,
   "id": "d8e5727d",
   "metadata": {},
   "outputs": [
    {
     "name": "stderr",
     "output_type": "stream",
     "text": [
      "c:\\Users\\hp\\Desktop\\Kunal_work\\venv\\Lib\\site-packages\\tqdm\\auto.py:21: TqdmWarning: IProgress not found. Please update jupyter and ipywidgets. See https://ipywidgets.readthedocs.io/en/stable/user_install.html\n",
      "  from .autonotebook import tqdm as notebook_tqdm\n"
     ]
    }
   ],
   "source": [
    "from sentence_transformers import SentenceTransformer\n",
    "\n",
    "# Pretrained HuggingFace model\n",
    "embedder = SentenceTransformer(\"sentence-transformers/all-MiniLM-L6-v2\")\n"
   ]
  },
  {
   "cell_type": "code",
   "execution_count": null,
   "id": "9b109e00",
   "metadata": {},
   "outputs": [
    {
     "name": "stdout",
     "output_type": "stream",
     "text": [
      "✅ Embeddings generated: (6485, 384)\n"
     ]
    }
   ],
   "source": [
    "# Agar tumne abhi tak internships.skills fill nahi kiya hai, \n",
    "# toh yaha abhi internship_title + company_name use kar lo\n",
    "df['text_for_embedding'] = df['internship_title'] + \" \" + df['company_name']    \n",
    "\n",
    "# Embeddings banalo\n",
    "embeddings = embedder.encode(df['text_for_embedding'].tolist(), convert_to_numpy=True)\n",
    "print(\"✅ Embeddings generated:\", embeddings.shape)\n"
   ]
  },
  {
   "cell_type": "code",
   "execution_count": 2,
   "id": "65d452e9",
   "metadata": {},
   "outputs": [
    {
     "ename": "NameError",
     "evalue": "name 'engine' is not defined",
     "output_type": "error",
     "traceback": [
      "\u001b[1;31m---------------------------------------------------------------------------\u001b[0m",
      "\u001b[1;31mNameError\u001b[0m                                 Traceback (most recent call last)",
      "Cell \u001b[1;32mIn[2], line 1\u001b[0m\n\u001b[1;32m----> 1\u001b[0m \u001b[43mengine\u001b[49m\u001b[38;5;241m.\u001b[39mconnect()\n",
      "\u001b[1;31mNameError\u001b[0m: name 'engine' is not defined"
     ]
    }
   ],
   "source": [
    "engine.connect()"
   ]
  },
  {
   "cell_type": "code",
   "execution_count": 96,
   "id": "5b4dd13e",
   "metadata": {},
   "outputs": [
    {
     "name": "stdout",
     "output_type": "stream",
     "text": [
      "✅ First 20 embeddings stored in DB!\n"
     ]
    }
   ],
   "source": [
    "import numpy as np\n",
    "\n",
    "with engine.begin() as conn:\n",
    "    for i, row in df.head(200).iterrows():   # 👈 sirf pehle 20 rows lenge\n",
    "        emb = embeddings[i].astype(float)\n",
    "        emb_str = \"[\" + \",\".join([str(x) for x in emb]) + \"]\"  # pgvector format\n",
    "\n",
    "        query = text(\"\"\"\n",
    "            UPDATE internships\n",
    "            SET embedding = :embedding\n",
    "            WHERE internship_title = :title AND company_name = :company\n",
    "        \"\"\")\n",
    "        conn.execute(query, {\n",
    "            \"embedding\": emb_str,\n",
    "            \"title\": row['internship_title'],\n",
    "            \"company\": row['company_name']\n",
    "        })\n",
    "\n",
    "print(\"✅ First 20 embeddings stored in DB!\")\n"
   ]
  },
  {
   "cell_type": "markdown",
   "id": "51b7a191",
   "metadata": {},
   "source": [
    "import numpy as np\n",
    "\n",
    "with engine.begin() as conn:\n",
    "    for i, row in df.head(20).iterrows():   # 👈 sirf pehle 20 rows lenge\n",
    "        emb = embeddings[i].astype(float)\n",
    "        emb_str = \"[\" + \",\".join([str(x) for x in emb]) + \"]\"  # pgvector format\n",
    "\n",
    "        query = text(\"\"\"\n",
    "            UPDATE internships\n",
    "            SET embedding = :embedding\n",
    "            WHERE internship_title = :title AND company_name = :company\n",
    "        \"\"\")\n",
    "        conn.execute(query, {\n",
    "            \"embedding\": emb_str,\n",
    "            \"title\": row['internship_title'],\n",
    "            \"company\": row['company_name']\n",
    "        })\n",
    "\n",
    "print(\"✅ First 20 embeddings stored in DB!\")\n"
   ]
  },
  {
   "cell_type": "code",
   "execution_count": null,
   "id": "982e355b",
   "metadata": {},
   "outputs": [
    {
     "ename": "KeyboardInterrupt",
     "evalue": "",
     "output_type": "error",
     "traceback": [
      "\u001b[1;31m---------------------------------------------------------------------------\u001b[0m",
      "\u001b[1;31mKeyboardInterrupt\u001b[0m                         Traceback (most recent call last)",
      "Cell \u001b[1;32mIn[94], line 13\u001b[0m\n\u001b[0;32m      6\u001b[0m         emb_str \u001b[38;5;241m=\u001b[39m \u001b[38;5;124m\"\u001b[39m\u001b[38;5;124m[\u001b[39m\u001b[38;5;124m\"\u001b[39m \u001b[38;5;241m+\u001b[39m \u001b[38;5;124m\"\u001b[39m\u001b[38;5;124m,\u001b[39m\u001b[38;5;124m\"\u001b[39m\u001b[38;5;241m.\u001b[39mjoin([\u001b[38;5;28mstr\u001b[39m(x) \u001b[38;5;28;01mfor\u001b[39;00m x \u001b[38;5;129;01min\u001b[39;00m emb]) \u001b[38;5;241m+\u001b[39m \u001b[38;5;124m\"\u001b[39m\u001b[38;5;124m]\u001b[39m\u001b[38;5;124m\"\u001b[39m  \u001b[38;5;66;03m# pgvector format\u001b[39;00m\n\u001b[0;32m      8\u001b[0m         query \u001b[38;5;241m=\u001b[39m text(\u001b[38;5;124m\"\"\"\u001b[39m\n\u001b[0;32m      9\u001b[0m \u001b[38;5;124m            UPDATE internships\u001b[39m\n\u001b[0;32m     10\u001b[0m \u001b[38;5;124m            SET embedding = :embedding\u001b[39m\n\u001b[0;32m     11\u001b[0m \u001b[38;5;124m            WHERE internship_title = :title AND company_name = :company\u001b[39m\n\u001b[0;32m     12\u001b[0m \u001b[38;5;124m        \u001b[39m\u001b[38;5;124m\"\"\"\u001b[39m)\n\u001b[1;32m---> 13\u001b[0m         \u001b[43mconn\u001b[49m\u001b[38;5;241;43m.\u001b[39;49m\u001b[43mexecute\u001b[49m\u001b[43m(\u001b[49m\u001b[43mquery\u001b[49m\u001b[43m,\u001b[49m\u001b[43m \u001b[49m\u001b[43m{\u001b[49m\n\u001b[0;32m     14\u001b[0m \u001b[43m            \u001b[49m\u001b[38;5;124;43m\"\u001b[39;49m\u001b[38;5;124;43membedding\u001b[39;49m\u001b[38;5;124;43m\"\u001b[39;49m\u001b[43m:\u001b[49m\u001b[43m \u001b[49m\u001b[43memb_str\u001b[49m\u001b[43m,\u001b[49m\n\u001b[0;32m     15\u001b[0m \u001b[43m            \u001b[49m\u001b[38;5;124;43m\"\u001b[39;49m\u001b[38;5;124;43mtitle\u001b[39;49m\u001b[38;5;124;43m\"\u001b[39;49m\u001b[43m:\u001b[49m\u001b[43m \u001b[49m\u001b[43mrow\u001b[49m\u001b[43m[\u001b[49m\u001b[38;5;124;43m'\u001b[39;49m\u001b[38;5;124;43minternship_title\u001b[39;49m\u001b[38;5;124;43m'\u001b[39;49m\u001b[43m]\u001b[49m\u001b[43m,\u001b[49m\n\u001b[0;32m     16\u001b[0m \u001b[43m            \u001b[49m\u001b[38;5;124;43m\"\u001b[39;49m\u001b[38;5;124;43mcompany\u001b[39;49m\u001b[38;5;124;43m\"\u001b[39;49m\u001b[43m:\u001b[49m\u001b[43m \u001b[49m\u001b[43mrow\u001b[49m\u001b[43m[\u001b[49m\u001b[38;5;124;43m'\u001b[39;49m\u001b[38;5;124;43mcompany_name\u001b[39;49m\u001b[38;5;124;43m'\u001b[39;49m\u001b[43m]\u001b[49m\n\u001b[0;32m     17\u001b[0m \u001b[43m        \u001b[49m\u001b[43m}\u001b[49m\u001b[43m)\u001b[49m\n\u001b[0;32m     19\u001b[0m \u001b[38;5;28mprint\u001b[39m(\u001b[38;5;124m\"\u001b[39m\u001b[38;5;124m✅ All embeddings stored in DB!\u001b[39m\u001b[38;5;124m\"\u001b[39m)\n",
      "File \u001b[1;32mc:\\Users\\hp\\Desktop\\Kunal_work\\venv\\Lib\\site-packages\\sqlalchemy\\engine\\base.py:1416\u001b[0m, in \u001b[0;36mConnection.execute\u001b[1;34m(self, statement, parameters, execution_options)\u001b[0m\n\u001b[0;32m   1414\u001b[0m     \u001b[38;5;28;01mraise\u001b[39;00m exc\u001b[38;5;241m.\u001b[39mObjectNotExecutableError(statement) \u001b[38;5;28;01mfrom\u001b[39;00m\u001b[38;5;250m \u001b[39m\u001b[38;5;21;01merr\u001b[39;00m\n\u001b[0;32m   1415\u001b[0m \u001b[38;5;28;01melse\u001b[39;00m:\n\u001b[1;32m-> 1416\u001b[0m     \u001b[38;5;28;01mreturn\u001b[39;00m \u001b[43mmeth\u001b[49m\u001b[43m(\u001b[49m\n\u001b[0;32m   1417\u001b[0m \u001b[43m        \u001b[49m\u001b[38;5;28;43mself\u001b[39;49m\u001b[43m,\u001b[49m\n\u001b[0;32m   1418\u001b[0m \u001b[43m        \u001b[49m\u001b[43mdistilled_parameters\u001b[49m\u001b[43m,\u001b[49m\n\u001b[0;32m   1419\u001b[0m \u001b[43m        \u001b[49m\u001b[43mexecution_options\u001b[49m\u001b[43m \u001b[49m\u001b[38;5;129;43;01mor\u001b[39;49;00m\u001b[43m \u001b[49m\u001b[43mNO_OPTIONS\u001b[49m\u001b[43m,\u001b[49m\n\u001b[0;32m   1420\u001b[0m \u001b[43m    \u001b[49m\u001b[43m)\u001b[49m\n",
      "File \u001b[1;32mc:\\Users\\hp\\Desktop\\Kunal_work\\venv\\Lib\\site-packages\\sqlalchemy\\sql\\elements.py:515\u001b[0m, in \u001b[0;36mClauseElement._execute_on_connection\u001b[1;34m(self, connection, distilled_params, execution_options)\u001b[0m\n\u001b[0;32m    513\u001b[0m     \u001b[38;5;28;01mif\u001b[39;00m TYPE_CHECKING:\n\u001b[0;32m    514\u001b[0m         \u001b[38;5;28;01massert\u001b[39;00m \u001b[38;5;28misinstance\u001b[39m(\u001b[38;5;28mself\u001b[39m, Executable)\n\u001b[1;32m--> 515\u001b[0m     \u001b[38;5;28;01mreturn\u001b[39;00m \u001b[43mconnection\u001b[49m\u001b[38;5;241;43m.\u001b[39;49m\u001b[43m_execute_clauseelement\u001b[49m\u001b[43m(\u001b[49m\n\u001b[0;32m    516\u001b[0m \u001b[43m        \u001b[49m\u001b[38;5;28;43mself\u001b[39;49m\u001b[43m,\u001b[49m\u001b[43m \u001b[49m\u001b[43mdistilled_params\u001b[49m\u001b[43m,\u001b[49m\u001b[43m \u001b[49m\u001b[43mexecution_options\u001b[49m\n\u001b[0;32m    517\u001b[0m \u001b[43m    \u001b[49m\u001b[43m)\u001b[49m\n\u001b[0;32m    518\u001b[0m \u001b[38;5;28;01melse\u001b[39;00m:\n\u001b[0;32m    519\u001b[0m     \u001b[38;5;28;01mraise\u001b[39;00m exc\u001b[38;5;241m.\u001b[39mObjectNotExecutableError(\u001b[38;5;28mself\u001b[39m)\n",
      "File \u001b[1;32mc:\\Users\\hp\\Desktop\\Kunal_work\\venv\\Lib\\site-packages\\sqlalchemy\\engine\\base.py:1638\u001b[0m, in \u001b[0;36mConnection._execute_clauseelement\u001b[1;34m(self, elem, distilled_parameters, execution_options)\u001b[0m\n\u001b[0;32m   1626\u001b[0m compiled_cache: Optional[CompiledCacheType] \u001b[38;5;241m=\u001b[39m execution_options\u001b[38;5;241m.\u001b[39mget(\n\u001b[0;32m   1627\u001b[0m     \u001b[38;5;124m\"\u001b[39m\u001b[38;5;124mcompiled_cache\u001b[39m\u001b[38;5;124m\"\u001b[39m, \u001b[38;5;28mself\u001b[39m\u001b[38;5;241m.\u001b[39mengine\u001b[38;5;241m.\u001b[39m_compiled_cache\n\u001b[0;32m   1628\u001b[0m )\n\u001b[0;32m   1630\u001b[0m compiled_sql, extracted_params, cache_hit \u001b[38;5;241m=\u001b[39m elem\u001b[38;5;241m.\u001b[39m_compile_w_cache(\n\u001b[0;32m   1631\u001b[0m     dialect\u001b[38;5;241m=\u001b[39mdialect,\n\u001b[0;32m   1632\u001b[0m     compiled_cache\u001b[38;5;241m=\u001b[39mcompiled_cache,\n\u001b[1;32m   (...)\u001b[0m\n\u001b[0;32m   1636\u001b[0m     linting\u001b[38;5;241m=\u001b[39m\u001b[38;5;28mself\u001b[39m\u001b[38;5;241m.\u001b[39mdialect\u001b[38;5;241m.\u001b[39mcompiler_linting \u001b[38;5;241m|\u001b[39m compiler\u001b[38;5;241m.\u001b[39mWARN_LINTING,\n\u001b[0;32m   1637\u001b[0m )\n\u001b[1;32m-> 1638\u001b[0m ret \u001b[38;5;241m=\u001b[39m \u001b[38;5;28;43mself\u001b[39;49m\u001b[38;5;241;43m.\u001b[39;49m\u001b[43m_execute_context\u001b[49m\u001b[43m(\u001b[49m\n\u001b[0;32m   1639\u001b[0m \u001b[43m    \u001b[49m\u001b[43mdialect\u001b[49m\u001b[43m,\u001b[49m\n\u001b[0;32m   1640\u001b[0m \u001b[43m    \u001b[49m\u001b[43mdialect\u001b[49m\u001b[38;5;241;43m.\u001b[39;49m\u001b[43mexecution_ctx_cls\u001b[49m\u001b[38;5;241;43m.\u001b[39;49m\u001b[43m_init_compiled\u001b[49m\u001b[43m,\u001b[49m\n\u001b[0;32m   1641\u001b[0m \u001b[43m    \u001b[49m\u001b[43mcompiled_sql\u001b[49m\u001b[43m,\u001b[49m\n\u001b[0;32m   1642\u001b[0m \u001b[43m    \u001b[49m\u001b[43mdistilled_parameters\u001b[49m\u001b[43m,\u001b[49m\n\u001b[0;32m   1643\u001b[0m \u001b[43m    \u001b[49m\u001b[43mexecution_options\u001b[49m\u001b[43m,\u001b[49m\n\u001b[0;32m   1644\u001b[0m \u001b[43m    \u001b[49m\u001b[43mcompiled_sql\u001b[49m\u001b[43m,\u001b[49m\n\u001b[0;32m   1645\u001b[0m \u001b[43m    \u001b[49m\u001b[43mdistilled_parameters\u001b[49m\u001b[43m,\u001b[49m\n\u001b[0;32m   1646\u001b[0m \u001b[43m    \u001b[49m\u001b[43melem\u001b[49m\u001b[43m,\u001b[49m\n\u001b[0;32m   1647\u001b[0m \u001b[43m    \u001b[49m\u001b[43mextracted_params\u001b[49m\u001b[43m,\u001b[49m\n\u001b[0;32m   1648\u001b[0m \u001b[43m    \u001b[49m\u001b[43mcache_hit\u001b[49m\u001b[38;5;241;43m=\u001b[39;49m\u001b[43mcache_hit\u001b[49m\u001b[43m,\u001b[49m\n\u001b[0;32m   1649\u001b[0m \u001b[43m\u001b[49m\u001b[43m)\u001b[49m\n\u001b[0;32m   1650\u001b[0m \u001b[38;5;28;01mif\u001b[39;00m has_events:\n\u001b[0;32m   1651\u001b[0m     \u001b[38;5;28mself\u001b[39m\u001b[38;5;241m.\u001b[39mdispatch\u001b[38;5;241m.\u001b[39mafter_execute(\n\u001b[0;32m   1652\u001b[0m         \u001b[38;5;28mself\u001b[39m,\n\u001b[0;32m   1653\u001b[0m         elem,\n\u001b[1;32m   (...)\u001b[0m\n\u001b[0;32m   1657\u001b[0m         ret,\n\u001b[0;32m   1658\u001b[0m     )\n",
      "File \u001b[1;32mc:\\Users\\hp\\Desktop\\Kunal_work\\venv\\Lib\\site-packages\\sqlalchemy\\engine\\base.py:1843\u001b[0m, in \u001b[0;36mConnection._execute_context\u001b[1;34m(self, dialect, constructor, statement, parameters, execution_options, *args, **kw)\u001b[0m\n\u001b[0;32m   1841\u001b[0m     \u001b[38;5;28;01mreturn\u001b[39;00m \u001b[38;5;28mself\u001b[39m\u001b[38;5;241m.\u001b[39m_exec_insertmany_context(dialect, context)\n\u001b[0;32m   1842\u001b[0m \u001b[38;5;28;01melse\u001b[39;00m:\n\u001b[1;32m-> 1843\u001b[0m     \u001b[38;5;28;01mreturn\u001b[39;00m \u001b[38;5;28;43mself\u001b[39;49m\u001b[38;5;241;43m.\u001b[39;49m\u001b[43m_exec_single_context\u001b[49m\u001b[43m(\u001b[49m\n\u001b[0;32m   1844\u001b[0m \u001b[43m        \u001b[49m\u001b[43mdialect\u001b[49m\u001b[43m,\u001b[49m\u001b[43m \u001b[49m\u001b[43mcontext\u001b[49m\u001b[43m,\u001b[49m\u001b[43m \u001b[49m\u001b[43mstatement\u001b[49m\u001b[43m,\u001b[49m\u001b[43m \u001b[49m\u001b[43mparameters\u001b[49m\n\u001b[0;32m   1845\u001b[0m \u001b[43m    \u001b[49m\u001b[43m)\u001b[49m\n",
      "File \u001b[1;32mc:\\Users\\hp\\Desktop\\Kunal_work\\venv\\Lib\\site-packages\\sqlalchemy\\engine\\base.py:1983\u001b[0m, in \u001b[0;36mConnection._exec_single_context\u001b[1;34m(self, dialect, context, statement, parameters)\u001b[0m\n\u001b[0;32m   1980\u001b[0m     result \u001b[38;5;241m=\u001b[39m context\u001b[38;5;241m.\u001b[39m_setup_result_proxy()\n\u001b[0;32m   1982\u001b[0m \u001b[38;5;28;01mexcept\u001b[39;00m \u001b[38;5;167;01mBaseException\u001b[39;00m \u001b[38;5;28;01mas\u001b[39;00m e:\n\u001b[1;32m-> 1983\u001b[0m     \u001b[38;5;28;43mself\u001b[39;49m\u001b[38;5;241;43m.\u001b[39;49m\u001b[43m_handle_dbapi_exception\u001b[49m\u001b[43m(\u001b[49m\n\u001b[0;32m   1984\u001b[0m \u001b[43m        \u001b[49m\u001b[43me\u001b[49m\u001b[43m,\u001b[49m\u001b[43m \u001b[49m\u001b[43mstr_statement\u001b[49m\u001b[43m,\u001b[49m\u001b[43m \u001b[49m\u001b[43meffective_parameters\u001b[49m\u001b[43m,\u001b[49m\u001b[43m \u001b[49m\u001b[43mcursor\u001b[49m\u001b[43m,\u001b[49m\u001b[43m \u001b[49m\u001b[43mcontext\u001b[49m\n\u001b[0;32m   1985\u001b[0m \u001b[43m    \u001b[49m\u001b[43m)\u001b[49m\n\u001b[0;32m   1987\u001b[0m \u001b[38;5;28;01mreturn\u001b[39;00m result\n",
      "File \u001b[1;32mc:\\Users\\hp\\Desktop\\Kunal_work\\venv\\Lib\\site-packages\\sqlalchemy\\engine\\base.py:2355\u001b[0m, in \u001b[0;36mConnection._handle_dbapi_exception\u001b[1;34m(self, e, statement, parameters, cursor, context, is_sub_exec)\u001b[0m\n\u001b[0;32m   2353\u001b[0m     \u001b[38;5;28;01melse\u001b[39;00m:\n\u001b[0;32m   2354\u001b[0m         \u001b[38;5;28;01massert\u001b[39;00m exc_info[\u001b[38;5;241m1\u001b[39m] \u001b[38;5;129;01mis\u001b[39;00m \u001b[38;5;129;01mnot\u001b[39;00m \u001b[38;5;28;01mNone\u001b[39;00m\n\u001b[1;32m-> 2355\u001b[0m         \u001b[38;5;28;01mraise\u001b[39;00m exc_info[\u001b[38;5;241m1\u001b[39m]\u001b[38;5;241m.\u001b[39mwith_traceback(exc_info[\u001b[38;5;241m2\u001b[39m])\n\u001b[0;32m   2356\u001b[0m \u001b[38;5;28;01mfinally\u001b[39;00m:\n\u001b[0;32m   2357\u001b[0m     \u001b[38;5;28;01mdel\u001b[39;00m \u001b[38;5;28mself\u001b[39m\u001b[38;5;241m.\u001b[39m_reentrant_error\n",
      "File \u001b[1;32mc:\\Users\\hp\\Desktop\\Kunal_work\\venv\\Lib\\site-packages\\sqlalchemy\\engine\\base.py:1964\u001b[0m, in \u001b[0;36mConnection._exec_single_context\u001b[1;34m(self, dialect, context, statement, parameters)\u001b[0m\n\u001b[0;32m   1962\u001b[0m                 \u001b[38;5;28;01mbreak\u001b[39;00m\n\u001b[0;32m   1963\u001b[0m     \u001b[38;5;28;01mif\u001b[39;00m \u001b[38;5;129;01mnot\u001b[39;00m evt_handled:\n\u001b[1;32m-> 1964\u001b[0m         \u001b[38;5;28;43mself\u001b[39;49m\u001b[38;5;241;43m.\u001b[39;49m\u001b[43mdialect\u001b[49m\u001b[38;5;241;43m.\u001b[39;49m\u001b[43mdo_execute\u001b[49m\u001b[43m(\u001b[49m\n\u001b[0;32m   1965\u001b[0m \u001b[43m            \u001b[49m\u001b[43mcursor\u001b[49m\u001b[43m,\u001b[49m\u001b[43m \u001b[49m\u001b[43mstr_statement\u001b[49m\u001b[43m,\u001b[49m\u001b[43m \u001b[49m\u001b[43meffective_parameters\u001b[49m\u001b[43m,\u001b[49m\u001b[43m \u001b[49m\u001b[43mcontext\u001b[49m\n\u001b[0;32m   1966\u001b[0m \u001b[43m        \u001b[49m\u001b[43m)\u001b[49m\n\u001b[0;32m   1968\u001b[0m \u001b[38;5;28;01mif\u001b[39;00m \u001b[38;5;28mself\u001b[39m\u001b[38;5;241m.\u001b[39m_has_events \u001b[38;5;129;01mor\u001b[39;00m \u001b[38;5;28mself\u001b[39m\u001b[38;5;241m.\u001b[39mengine\u001b[38;5;241m.\u001b[39m_has_events:\n\u001b[0;32m   1969\u001b[0m     \u001b[38;5;28mself\u001b[39m\u001b[38;5;241m.\u001b[39mdispatch\u001b[38;5;241m.\u001b[39mafter_cursor_execute(\n\u001b[0;32m   1970\u001b[0m         \u001b[38;5;28mself\u001b[39m,\n\u001b[0;32m   1971\u001b[0m         cursor,\n\u001b[1;32m   (...)\u001b[0m\n\u001b[0;32m   1975\u001b[0m         context\u001b[38;5;241m.\u001b[39mexecutemany,\n\u001b[0;32m   1976\u001b[0m     )\n",
      "File \u001b[1;32mc:\\Users\\hp\\Desktop\\Kunal_work\\venv\\Lib\\site-packages\\sqlalchemy\\engine\\default.py:942\u001b[0m, in \u001b[0;36mDefaultDialect.do_execute\u001b[1;34m(self, cursor, statement, parameters, context)\u001b[0m\n\u001b[0;32m    941\u001b[0m \u001b[38;5;28;01mdef\u001b[39;00m\u001b[38;5;250m \u001b[39m\u001b[38;5;21mdo_execute\u001b[39m(\u001b[38;5;28mself\u001b[39m, cursor, statement, parameters, context\u001b[38;5;241m=\u001b[39m\u001b[38;5;28;01mNone\u001b[39;00m):\n\u001b[1;32m--> 942\u001b[0m     \u001b[43mcursor\u001b[49m\u001b[38;5;241;43m.\u001b[39;49m\u001b[43mexecute\u001b[49m\u001b[43m(\u001b[49m\u001b[43mstatement\u001b[49m\u001b[43m,\u001b[49m\u001b[43m \u001b[49m\u001b[43mparameters\u001b[49m\u001b[43m)\u001b[49m\n",
      "File \u001b[1;32mC:\\Program Files\\WindowsApps\\PythonSoftwareFoundation.Python.3.11_3.11.2544.0_x64__qbz5n2kfra8p0\\Lib\\encodings\\utf_8.py:15\u001b[0m, in \u001b[0;36mdecode\u001b[1;34m(input, errors)\u001b[0m\n\u001b[0;32m     11\u001b[0m \u001b[38;5;66;03m### Codec APIs\u001b[39;00m\n\u001b[0;32m     13\u001b[0m encode \u001b[38;5;241m=\u001b[39m codecs\u001b[38;5;241m.\u001b[39mutf_8_encode\n\u001b[1;32m---> 15\u001b[0m \u001b[38;5;28;01mdef\u001b[39;00m\u001b[38;5;250m \u001b[39m\u001b[38;5;21mdecode\u001b[39m(\u001b[38;5;28minput\u001b[39m, errors\u001b[38;5;241m=\u001b[39m\u001b[38;5;124m'\u001b[39m\u001b[38;5;124mstrict\u001b[39m\u001b[38;5;124m'\u001b[39m):\n\u001b[0;32m     16\u001b[0m     \u001b[38;5;28;01mreturn\u001b[39;00m codecs\u001b[38;5;241m.\u001b[39mutf_8_decode(\u001b[38;5;28minput\u001b[39m, errors, \u001b[38;5;28;01mTrue\u001b[39;00m)\n\u001b[0;32m     18\u001b[0m \u001b[38;5;28;01mclass\u001b[39;00m\u001b[38;5;250m \u001b[39m\u001b[38;5;21;01mIncrementalEncoder\u001b[39;00m(codecs\u001b[38;5;241m.\u001b[39mIncrementalEncoder):\n",
      "\u001b[1;31mKeyboardInterrupt\u001b[0m: "
     ]
    }
   ],
   "source": [
    "# import numpy as np\n",
    "\n",
    "# with engine.begin() as conn:\n",
    "#     for i, row in df.iterrows():\n",
    "#         emb = embeddings[i].astype(float)\n",
    "#         emb_str = \"[\" + \",\".join([str(x) for x in emb]) + \"]\"  # pgvector format\n",
    "\n",
    "#         query = text(\"\"\"\n",
    "#             UPDATE internships\n",
    "#             SET embedding = :embedding\n",
    "#             WHERE internship_title = :title AND company_name = :company\n",
    "#         \"\"\")\n",
    "#         conn.execute(query, {\n",
    "#             \"embedding\": emb_str,\n",
    "#             \"title\": row['internship_title'],\n",
    "#             \"company\": row['company_name']\n",
    "#         })\n",
    "\n",
    "# print(\"✅ All embeddings stored in DB!\")\n"
   ]
  },
  {
   "cell_type": "code",
   "execution_count": 20,
   "id": "a1dcb9ea",
   "metadata": {},
   "outputs": [
    {
     "ename": "NameError",
     "evalue": "name 'skills_out' is not defined",
     "output_type": "error",
     "traceback": [
      "\u001b[1;31m---------------------------------------------------------------------------\u001b[0m",
      "\u001b[1;31mNameError\u001b[0m                                 Traceback (most recent call last)",
      "Cell \u001b[1;32mIn[20], line 2\u001b[0m\n\u001b[0;32m      1\u001b[0m \u001b[38;5;66;03m# Candidate ke resume se nikle skills\u001b[39;00m\n\u001b[1;32m----> 2\u001b[0m candidate_skills \u001b[38;5;241m=\u001b[39m \u001b[43mskills_out\u001b[49m\u001b[38;5;241m.\u001b[39mskills\n\u001b[0;32m      3\u001b[0m \u001b[38;5;28mprint\u001b[39m(\u001b[38;5;124m\"\u001b[39m\u001b[38;5;124mCandidate Skills:\u001b[39m\u001b[38;5;124m\"\u001b[39m, candidate_skills)\n\u001b[0;32m      5\u001b[0m \u001b[38;5;66;03m# Text join karke ek string bana lo\u001b[39;00m\n",
      "\u001b[1;31mNameError\u001b[0m: name 'skills_out' is not defined"
     ]
    }
   ],
   "source": [
    "# Candidate ke resume se nikle skills\n",
    "candidate_skills = skills_out.skills\n",
    "print(\"Candidate Skills:\", candidate_skills)\n",
    "\n",
    "# Text join karke ek string bana lo\n",
    "candidate_text = \" \".join(candidate_skills)\n",
    "\n",
    "# Embedding banao\n",
    "candidate_embedding = embedder.encode([candidate_text], convert_to_numpy=True)[0]\n",
    "\n",
    "print(\"✅ Candidate embedding ready:\", candidate_embedding.shape)\n"
   ]
  },
  {
   "cell_type": "code",
   "execution_count": 6,
   "id": "71443862",
   "metadata": {},
   "outputs": [
    {
     "ename": "NameError",
     "evalue": "name 'candidate_embedding' is not defined",
     "output_type": "error",
     "traceback": [
      "\u001b[1;31m---------------------------------------------------------------------------\u001b[0m",
      "\u001b[1;31mNameError\u001b[0m                                 Traceback (most recent call last)",
      "Cell \u001b[1;32mIn[6], line 5\u001b[0m\n\u001b[0;32m      2\u001b[0m \u001b[38;5;28;01mfrom\u001b[39;00m\u001b[38;5;250m \u001b[39m\u001b[38;5;21;01msqlalchemy\u001b[39;00m\u001b[38;5;250m \u001b[39m\u001b[38;5;28;01mimport\u001b[39;00m text\n\u001b[0;32m      4\u001b[0m \u001b[38;5;66;03m# Embedding ko pgvector format me convert\u001b[39;00m\n\u001b[1;32m----> 5\u001b[0m cand_emb_str \u001b[38;5;241m=\u001b[39m \u001b[38;5;124m\"\u001b[39m\u001b[38;5;124m[\u001b[39m\u001b[38;5;124m\"\u001b[39m \u001b[38;5;241m+\u001b[39m \u001b[38;5;124m\"\u001b[39m\u001b[38;5;124m,\u001b[39m\u001b[38;5;124m\"\u001b[39m\u001b[38;5;241m.\u001b[39mjoin([\u001b[38;5;28mstr\u001b[39m(x) \u001b[38;5;28;01mfor\u001b[39;00m x \u001b[38;5;129;01min\u001b[39;00m \u001b[43mcandidate_embedding\u001b[49m]) \u001b[38;5;241m+\u001b[39m \u001b[38;5;124m\"\u001b[39m\u001b[38;5;124m]\u001b[39m\u001b[38;5;124m\"\u001b[39m\n\u001b[0;32m      7\u001b[0m \u001b[38;5;66;03m# Top 5 closest internships\u001b[39;00m\n\u001b[0;32m      8\u001b[0m query \u001b[38;5;241m=\u001b[39m text(\u001b[38;5;124m\"\"\"\u001b[39m\n\u001b[0;32m      9\u001b[0m \u001b[38;5;124m    SELECT id, internship_title, company_name, location, stipend_min, stipend_max,\u001b[39m\n\u001b[0;32m     10\u001b[0m \u001b[38;5;124m           1 - (embedding <=> :cand_emb) AS similarity\u001b[39m\n\u001b[1;32m   (...)\u001b[0m\n\u001b[0;32m     14\u001b[0m \u001b[38;5;124m    LIMIT 5;\u001b[39m\n\u001b[0;32m     15\u001b[0m \u001b[38;5;124m\"\"\"\u001b[39m)\n",
      "\u001b[1;31mNameError\u001b[0m: name 'candidate_embedding' is not defined"
     ]
    }
   ],
   "source": [
    "import numpy as np\n",
    "from sqlalchemy import text\n",
    "\n",
    "# Embedding ko pgvector format me convert\n",
    "cand_emb_str = \"[\" + \",\".join([str(x) for x in candidate_embedding]) + \"]\"\n",
    "\n",
    "# Top 5 closest internships\n",
    "query = text(\"\"\"\n",
    "    SELECT id, internship_title, company_name, location, stipend_min, stipend_max,\n",
    "           1 - (embedding <=> :cand_emb) AS similarity\n",
    "    FROM internships\n",
    "    WHERE embedding IS NOT NULL\n",
    "    ORDER BY embedding <=> :cand_emb\n",
    "    LIMIT 5;\n",
    "\"\"\")\n",
    "\n",
    "with engine.connect() as conn:\n",
    "    results = conn.execute(query, {\"cand_emb\": cand_emb_str}).fetchall()\n",
    "\n",
    "print(\"🎯 Top Internship Matches:\")\n",
    "for r in results:\n",
    "    print(r)\n"
   ]
  },
  {
   "cell_type": "code",
   "execution_count": null,
   "id": "86ef449c",
   "metadata": {},
   "outputs": [],
   "source": []
  }
 ],
 "metadata": {
  "kernelspec": {
   "display_name": "venv",
   "language": "python",
   "name": "python3"
  },
  "language_info": {
   "codemirror_mode": {
    "name": "ipython",
    "version": 3
   },
   "file_extension": ".py",
   "mimetype": "text/x-python",
   "name": "python",
   "nbconvert_exporter": "python",
   "pygments_lexer": "ipython3",
   "version": "3.11.9"
  }
 },
 "nbformat": 4,
 "nbformat_minor": 5
}
